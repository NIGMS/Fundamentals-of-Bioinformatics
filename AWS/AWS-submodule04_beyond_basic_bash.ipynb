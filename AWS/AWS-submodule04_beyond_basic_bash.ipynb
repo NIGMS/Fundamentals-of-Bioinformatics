{
 "cells": [
  {
   "cell_type": "markdown",
   "id": "6963dbcc-0794-4f51-b589-5c3bf1ff4103",
   "metadata": {
    "tags": []
   },
   "source": [
    "# Beyond Basic BASH Coding\n",
    "------\n",
    "### Learning Objectives:\n",
    "\n",
    "+ Review BASH commands learned in previous lessons\n",
    "\n",
    "+ Apply looping with complex BASH commands for repetitive tasks\n",
    "\n",
    "+ Create and execute BASH scripts\n",
    "\n",
    "## BASH Coding Review\n",
    "--------\n",
    "\n",
    "Thus far you've learned quite a bit about how to navigate the terminal environment with some basic BASH commands. In this section we will review those commands and couple of commands we haven't covered yet while we continue to build more complex commands by combining commands in different ways.\n",
    "\n",
    "### Navigating the Terminal\n",
    "\n",
    "`pwd` <br>\n",
    "Print working directory.\n",
    "\n",
    "`cd` <br>\n",
    "Change directory, accepts an argument to indicate the name of the directory you would like to move to.\n",
    "\n",
    "`mkdir` <br>\n",
    "Create a new directory, accepts an argument to indicate the name of the new directory to be created.\n",
    "\n",
    "`ls` <br>\n",
    "Lists the contents of the current working directory. You can use this command without an argument to list the contents of the current working directory, or you can provide an argument in the form of the name (path) of a directory you would like to list the contents of. Alternatively, you can also provide an argument using a regular expression to list only files that contain a pattern of interest. For example to list all files that begin with the letter \"s\" in my current working directory I would use the command `ls s*`, to list all files that begin with the letter \"p\" in the directory \"new_dir\" I would use the command `ls new_dir/p*`.\n",
    "\n",
    "### Creating and Organizing Files\n",
    "\n",
    "`nano` <br>\n",
    "This command invokes the \"nano\" text editing program, when used without an argument it will open a blank page where you can enter text and when you close the page with the command `ctrl + x` buttons you will be prompted to name the file and asked if you want to save the contents of the file to that filename (type `y` to save the file). Alternatively you can use this command with an argument for the filename(s) you want to create and when you close the page with `ctrl + x` you will be asked if you want to save to the given file name. This tool can also be used to modify the contents of existing files by invoking those filenames with the `nano` command. Nano is one of many text editors for the command line interface, `vi` is another popular one. \n",
    " \n",
    " <p align=\"center\">\n",
    "    <img src=\"images/nano.png\" alt=\"nano\" width=\"80%\"/>\n",
    "</p>\n",
    "\n",
    "\n",
    "\n",
    "`touch` <br>\n",
    "Create an empty file, accepts an argument indicating the name of the file to be created. \n",
    "\n",
    "`>` <br>\n",
    "Redirects the output of a command to a file rather than to standard out, accepts an argument indicating the filename to write to. If the filename already exists, the existing content of that file will be replaced with the output of the new command. \n",
    "\n",
    "`>>` <br>\n",
    "Appends the output of a command to a file rather than to standard out, accepts an argument indicating the filename to write to. If the filename already exists, the new output is added to the bottom of the existing content rather than overwriting what is already there (as in the `>` command).\n",
    "\n",
    "### Viewing File Contents\n",
    "\n",
    "`cat`<br>\n",
    "Print the entire contents of a file to the screen, this command takes an argument to indicate which file should be printed. This command can accept multiple arguments (filenames) separated by spaces and will print the entire contents of each argument one after the next. This command can also accept regular expressions as arguments, for example print the contents of all files that end with the suffix \"fasta\" in a directory could be implemented with this command `cat *.fasta`.\n",
    "\n",
    "`zcat` <br>\n",
    "Print the entire contents of a zipped file to the screen, this command takes a file name as an argument to indicate which file should be printed. This command can accept multiple arguments (filenames) separated by spaces and will print the entire contents of each file one after the next. This command can also accept regular expressions as arguments, for example print the contents of all zipped  fastq files in a directory could be implemented with this command `zcat *.fastq.gz`.\n",
    "\n",
    "`head` or `tail`<br> \n",
    "Print the first (head) or last (tail) ten lines of a file, this command accepts a filename as an argument to indicate which file you would like to view. This command also accepts multiple arguments separated by spaces. One flag that is commonly used with this command is the `-n` flag which indicates the number of lines to print, without this flag ten lines will be printed. To print the last 100 lines of a file one could use the command `tail -n 100 some_file.txt`.\n",
    "\n",
    "### Renaming, Moving, and Removing Files\n",
    "\n",
    "`cp`<br>\n",
    "Copies the contents of a file to a new file, this command accepts two arguments the first is the file to be copied and the second is the new filename to write the data to. There is also an option to use this tool to copy directories when using the `-r` flag to indicate that the structure of the directory should be preserved in the copied version.\n",
    "\n",
    "`mv` <br>\n",
    "This command can be used in two ways, it can be used to move a file from one location to another, in this case the first argument would be the filename and the second argument would be the path indicating the new location i.e. `mv somefile.txt new_dir/new_location/`. The second way to use this command is changing the name of a file, in this case the first argument would be the filename and the second argument would be the new filename you would like to replace the current name, i.e. `mv somefileName.txt newfileName.txt`.\n",
    "\n",
    "`rm`<br>\n",
    "Removes a file or a directory, this command accepts an argument indicating the name of the file to be removed, or the name of the directory to be removed with the `-r` flag. This action is for the most part permanent, and the only way to get a file back that you've removed is from a backup location so be very careful when using this command and NEVER use this command with the greedy regular expression character `*` which will remove all files in the working directory.\n",
    "\n",
    "### File Content Manipulation\n",
    "\n",
    "`wc`<br>\n",
    "Counts the number of words in a file, this command accepts an argument indicating which file to count words. One flag that is very useful with this command is the `-l` flag which directs the command to count the number of lines in the file rather than the number of words in the file.\n",
    "\n",
    "`cut`<br>\n",
    "Separates the contents of a file, this command accepts an argument indicating the file to be cut and requires the flag `-f` which dictates the fields to be cut by the command, you can optionally include the `-d` flag which indicates the delimiter to cut the file on, by default this command uses the tab to indicate separate fields. An example of the utility of this command is taking the first field of a GFF (tab delimited) file with `cut -f1 somefile.gff`. Another useful example uses the `-d` delimiter flag to cut the first and second fields of the information column of a gff file (9th tab delimited column) `cut -f9 somefile.gff|cut -d \";\" -f1,2`. In this command I've used the cut command once to isolate the information column `cut -f9 somefile.gff` and then piped the output of that command to a second cut command which then cuts that column using the delimiter \";\" `cut -d\";\"` and takes the first and second fields `-f1,2`. \n",
    "\n",
    "`sed`<br>\n",
    "This command is generally used to edit the contents of files in an automated way. This command is often used for search and replace functions, and accepts two arguments the first is a line of code indicating the string to search for and what to replace it with and the second indicating the file to search. One useful task to perform with this command is replacing a sample name (old_sample) in a code file to utilize the same code with a different input file (new_sample) `sed 's/old_sample/new_sample/g' some_codeFile.sh > new_codeFile.sh`. You will notice the pattern `'s/PATTERN1/PATTERN2/g'` is surrounded by single quotes, the preceeding `s` indicates this is a substitution command and the trailing `g` indicates that you would like every instance of `PATTERN1` replaced with `PATTERN2`. The `g` could be omitted to indicate change only the first instance, or replaced with a number indicating the number of times the substitution will be performed. \n",
    "\n",
    "`sort`<br>\n",
    "Prints the sorted concatenated output to the screen, the output can be redirected with the `>` command. This command accepts an argument indicating the file contents to sort. There are many flags that can modify the way the data are sorted, `-n` is a flag that indicates data should be sorted numerically. Another useful flag is the `-u` flag \n",
    "\n",
    "`uniq`<br>\n",
    "Filters matching adjacent lines and prints the lines to the screen. If two lines are matching but not adjacent both will be printed to the screen. This command accepts an argument indicating the file to be sorted and there are many flags that can be used to modify the output of this command, one useful one is the flag `-c` which will print a count of the number of adjacent occurrences of each line.\n",
    "\n",
    "## Pattern Matching\n",
    "\n",
    "`grep`<br>\n",
    "This pattern matching tool prints the lines in a file that match the pattern of interest. This command accepts an argument indicating the pattern to be matched, usually in quotation marks, and the file to search. There are many flags that can be used to modify the behavior of this command, the flag `-m` is used with an integer to limit the number of matching lines, the flag `-c` is used to return a count of the number of times the pattern was found. This command is often combined with regular expression to look for complex patterns (more information on this can be found in the **Genomics file formats** lesson)."
   ]
  },
  {
   "cell_type": "markdown",
   "id": "f1c37b72-36be-4141-a692-caa954d9e8ad",
   "metadata": {
    "tags": []
   },
   "source": [
    "## For & While Loops\n",
    "-------\n",
    "\n",
    "Now that you know some basic commands, and you've combined some of those commands with the `|` to build more complex commands we are going to add another layer of complexity. A powerful application of coding lies in repetitive tasks, rather than clicking over and over we can write some code that will apply a code chunk to a specified set of files or a defined variable using a loop. To build a loop you need to indicate what you want to loop over, maybe a set of files or all lines in a file, and the operation you want performed on each item.\n",
    "\n",
    "\n",
    "### For Loop \n",
    "\n",
    "<span style=\"color:red\">Learn more about looping Bash commands in [this video](https://www.youtube.com/watch?v=rWrPwYKtmDA&list=PLXaEJPtnQ4w7Vu7vqWbttBjUGrPp4Qa7b&index=5).</span>\n",
    "\n",
    "We can start with a simple *for loop*, in a for loop we make the statement:\n",
    "*For each element in my list, do X, and complete the loop when the list has ended*\n",
    "\n",
    "We will use the variable ***i*** in the code chunk to reference all the elements of the list to be looped over, and let's keep the code chunk simple using the command `echo` to simply print the element to the screen."
   ]
  },
  {
   "cell_type": "code",
   "execution_count": null,
   "id": "cbcae554-f686-4114-b129-b1f636988495",
   "metadata": {
    "tags": []
   },
   "outputs": [],
   "source": [
    "%%bash\n",
    "\n",
    "# Loop over numbers 1:10, printing them as we go\n",
    "for i in {1..10}; do \n",
    "   echo \"$i\" \n",
    "done"
   ]
  },
  {
   "cell_type": "markdown",
   "id": "0eefa9e0-55d4-4d7d-aab0-fa92bcdb36b9",
   "metadata": {},
   "source": [
    "<div class=\"alert alert-block alert-warning\">\n",
    "    <i class=\"fa fa-question-circle-o\" aria-hidden=\"true\"></i>\n",
    "    <b>TEST YOUR SKILLS</b> \n",
    "      <p>Practice your skills in the code block below</p>\n",
    "    <div style=\"background-color: white ; color:black; padding: 3px;\">Copy the code above and write your own code chunk that prints the sequence of numbers from 1 to 25.<br><br> Run the #FLASHCARD code block to see the answer. </div>\n",
    "    \n",
    "</div>"
   ]
  },
  {
   "cell_type": "code",
   "execution_count": null,
   "id": "ef6f32de-aeb8-43b2-b854-3d75735dc38e",
   "metadata": {},
   "outputs": [],
   "source": [
    "%%bash\n",
    "\n",
    "## TEST YOUR SKILLS (enter and run your answers here)\n",
    "\n",
    "# Now copy the code above and write your own code chunk that prints the sequence of numbers from 1 to 25\n"
   ]
  },
  {
   "cell_type": "code",
   "execution_count": null,
   "id": "62fea610-d45e-4238-a2e1-7e765f0d8a83",
   "metadata": {},
   "outputs": [],
   "source": [
    "# FLASHCARD\n",
    "from IPython.display import IFrame\n",
    "IFrame(\"quiz_files/quiz4-1.html\", width=600, height=250)"
   ]
  },
  {
   "cell_type": "markdown",
   "id": "32debf32-ce7c-4b4b-88e8-0d55fb7d5810",
   "metadata": {
    "tags": []
   },
   "source": [
    "### For Loop\n",
    "\n",
    "A for loop is very useful when you have a discrete list of elements that you would like to apply a specific code chunk to, you can also use them with a list of file names. Here we will make a list of the fastq files in our `aws_research_workflow/` directory and loop over them printing the first four lines of each file."
   ]
  },
  {
   "cell_type": "code",
   "execution_count": null,
   "id": "a9046c97-b8dc-4b55-af3b-e875fade21b2",
   "metadata": {
    "tags": []
   },
   "outputs": [],
   "source": [
    "%%bash\n",
    "\n",
    "# Create a list of the fasta files in the sequences directory\n",
    "ls aws_research_workflow/*.fastq.gz > fastq.list\n",
    "head -n3 fastq.list"
   ]
  },
  {
   "cell_type": "code",
   "execution_count": null,
   "id": "35060f4b-f776-4b99-9207-6fb58bae5084",
   "metadata": {},
   "outputs": [],
   "source": [
    "%%bash\n",
    "\n",
    "# Loop over the elements of the list and list the filenames\n",
    "for i in `cat fastq.list`; do\n",
    "    zcat $i|head -n4\n",
    "done"
   ]
  },
  {
   "cell_type": "markdown",
   "id": "f9993224-cd2a-455b-a9db-1c60d0ca39ab",
   "metadata": {},
   "source": [
    "### While Loop\n",
    "\n",
    "If you do not know how many times you might need to run a loop, using a *while loop* may be useful, as it will continue the loop until the boolean (logical) specified in the first line evaluates to `false`. An example would be looping over all of the files in your directory to perform a specific task. let's loop over the same fasta files as we did in the loop above, but using the flexibility of the while loop we can skip the step where we created the file `fasta.list`. To add some additional complexity to the code chunk and we will print the file name and then print the first 3 lines of each file. \n"
   ]
  },
  {
   "cell_type": "code",
   "execution_count": null,
   "id": "474b7da7-b213-4874-ab65-3b06ea3562ad",
   "metadata": {
    "tags": []
   },
   "outputs": [],
   "source": [
    "%%bash\n",
    "\n",
    "ls aws_research_workflow/*.fasta | while read x; do \n",
    "     # Tell me what the shell is doing\n",
    "     echo $x\n",
    "     # Provide an empty line for ease of viewing\n",
    "     head -n 3 $x  \n",
    " done\n"
   ]
  },
  {
   "cell_type": "markdown",
   "id": "e58ab4a4-c787-4939-adb3-146b95585eb8",
   "metadata": {
    "tags": []
   },
   "source": [
    "Now let's use variations on some of the complex code we wrote in the earlier lesson **Genomic File Formats** to write a loop to check how many reads contain the start codon `ATG`. We can do this by searching for matches with `grep` and counting how many times it was found with `wc -l` (literally how many lines are returned), and repeating this process for each sample using a while loop.\n"
   ]
  },
  {
   "cell_type": "code",
   "execution_count": null,
   "id": "6705dc4f-a7d3-4fb4-9189-bc4af0e78891",
   "metadata": {
    "tags": []
   },
   "outputs": [],
   "source": [
    "%%bash\n",
    "\n",
    "#Check how many reads in the first 10,000 entries of each fastq file contain ATG\n",
    "ls aws_research_workflow/*.fastq.gz | while read x; do \n",
    "   echo $x\n",
    "   zcat $x | sed -n '2~4p' | head -10000 | grep -o \"ATG\" | wc -l\n",
    "done\n"
   ]
  },
  {
   "cell_type": "markdown",
   "id": "ca50ee04-d288-4e37-8066-4eafe1fb4cfc",
   "metadata": {},
   "source": [
    "## Scripting in Bash\n",
    "------\n",
    "\n",
    "Loops are pretty useful, but what if we wanted to make it even simpler to run this code. Maybe we even want to share the program we just wrote with other lab members so that they can execute it on their own FASTQ files. One way to do this would be to write this series of commands into a `Bash script`, that can be executed at the command line, passing the files you would like to be operated on to the script.\n",
    "\n",
    "To generate the script (suffix `.sh`, which indicates this script is written in the BASH coding language) we will use the `nano` editor. The first line of a bash script is the **shebang** which indicate the language the code is written in, in this case `#!/bin/bash` indicates the BASH coding language. The **shebang** is followed by a comment line (starting with the `#`) explaining what the code does, and lastly the code that you would use in the terminal.\n",
    "\n",
    "As in the loops we use the `$` to specify the input variable to the script. `$1` represents the first argument handed to the script. Here, we only need to provide the file name, so we only have 1 `$`, but if we wanted to create more variables to expand the functionality of our script, we would do this using `$2`, `$3`, etc.\n",
    "\n",
    "The next code chunk uses the `nano` text editor application. This cannot be run in the Jupyter notebook and should be executed in the terminal window only. Once you've executed this in the terminal window you can continue to run code in the Jupyter notebook, though you should also be practicing in the terminal window. \n",
    "\n",
    "1. In the terminal window type the command `nano count_ATGC.sh`\n",
    "2. Copy and paste the text below into the terminal window to save to the `count_ATGC.sh` file you just created with `nano`:\n",
    "    ```\n",
    "    #!/bin/bash\n",
    "\n",
    "    ## this code processes zipped fastq files to count the number of Gs and Cs \n",
    "    ## in the first 10,000 reads\n",
    "    ## this code accepts one argument, the name of a file in the fastq format\n",
    "    \n",
    "    echo processing sample \"$1\" \n",
    "    zcat $1 | sed -n '2~4p' | sed -n '1,10000p' | grep -o . | sort | uniq -c\n",
    "    ```\n",
    "3. Use the `ctrl +X` keys to exit the text editor\n",
    "4. Use the `y` key to save the changes to the filename `count_ATGC.sh`"
   ]
  },
  {
   "cell_type": "code",
   "execution_count": null,
   "id": "98007b31-c0d1-48af-8805-35f064baf78f",
   "metadata": {},
   "outputs": [],
   "source": [
    "%%bash\n",
    "\n",
    "# Check to make sure your file contains the code chunk from above\n",
    "cat count_ATGC.sh"
   ]
  },
  {
   "cell_type": "markdown",
   "id": "c8071915-aec3-4c6e-9468-36814f4280f1",
   "metadata": {},
   "source": [
    "The code you copied into the file `count_ATGC.sh` is a variation of code that you've seen before in the **Genomics File Formats** lesson. The first code line uses the `echo` command to print the name of the file being processed to the screen. Then there is a complex set of code built with several pipes:\n",
    "\n",
    "- `zcat` lists the contents of a zipped fastq file\n",
    "- `sed -n '2~4p` prints the second line (read sequence) of the fastq entry and then skips 4 lines to get to the next read sequence\n",
    "- `sed -n '1,10000p'` prints the first 10,000 read sequence lines from the prior command\n",
    "- `grep -o .` separates each base pair in the first 10,000 read sequences on it's own line\n",
    "- `sort` sorts all of the base pairs alphabetically\n",
    "- `uniq -c` prints a count of each base pair\n",
    "\n",
    "You can see that each piece of this code takes the output from the command in the proceeding section, delimited by the `|`, and manipulates it slightly until we have the information we are after. Now let's run the script with the `bash` command, specifying the FASTQ file as the variable 1 (`$1`)."
   ]
  },
  {
   "cell_type": "code",
   "execution_count": null,
   "id": "100a2f16-c778-4b08-a6b7-c2460b4ab219",
   "metadata": {
    "tags": []
   },
   "outputs": [],
   "source": [
    "%%bash\n",
    "\n",
    "# Run the script with the bash command\n",
    "bash count_ATGC.sh aws_research_workflow/SRR1039508_1.chr20.fastq.gz\n"
   ]
  },
  {
   "cell_type": "markdown",
   "id": "713e11ed-df92-4696-a45e-01616a57c262",
   "metadata": {},
   "source": [
    "This is helpful information, but it would be more helpful to have this information for all of our fastq files, so let's run our BASH script with a while loop."
   ]
  },
  {
   "cell_type": "code",
   "execution_count": null,
   "id": "65fa9ddd-5c35-4c9f-8728-e19b7ad4b41e",
   "metadata": {
    "tags": []
   },
   "outputs": [],
   "source": [
    "%%bash\n",
    "\n",
    "# Run the bash script in a while loop on all fastq files\n",
    "ls aws_research_workflow/*.fastq.gz|while read x; do\n",
    "    bash count_ATGC.sh $x\n",
    "done"
   ]
  },
  {
   "cell_type": "markdown",
   "id": "79210dfd-913f-4867-9c81-97971e6be042",
   "metadata": {},
   "source": [
    "This is much more useful to be able to quickly compare sequence quality between all of our fastq files, you can see all of our samples have very few Ns and that the number of Gs & Cs are very similar in all of our reads (the same is true for As & Ts). It might be useful to write the output into a file instead of printing to the screen, so that we can save this information to share with collaborators later. We can use the append command `>>` to save the output to a file called **bp_info.txt**. "
   ]
  },
  {
   "cell_type": "code",
   "execution_count": null,
   "id": "2f8185c6-b059-4023-b654-182199dc625f",
   "metadata": {
    "tags": []
   },
   "outputs": [],
   "source": [
    "%%bash\n",
    "\n",
    "# Create the text file you want to write to\n",
    "touch bp_info.txt\n",
    "\n",
    "# Run the loop\n",
    "ls aws_research_workflow/*.fastq.gz | while read x; do \\\n",
    "   bash count_ATGC.sh $x >> bp_info.txt\n",
    "done\n",
    "\n",
    "# View the file\n",
    "cat bp_info.txt"
   ]
  },
  {
   "cell_type": "markdown",
   "id": "100aaaaa-bac6-4668-9b29-cf19ee63a95e",
   "metadata": {},
   "source": [
    "<div class=\"alert alert-block alert-warning\">\n",
    "    <i class=\"fa fa-question-circle-o\" aria-hidden=\"true\"></i>\n",
    "    <b>TEST YOUR SKILLS</b> \n",
    "      <p>Practice your skills in the code block below</p>\n",
    "    <div style=\"background-color: white ; color:black; padding: 3px;\">Write the same loop but instead of the append command >> use the redirect command > <br><br>How does the output file change? Why?<br>HINT: check the section above on creating and organizing files to remind yourself of the operations performed by >> and > <br><br> Run the #FLASHCARD code block to see the answer.</div>\n",
    "    \n",
    "</div>"
   ]
  },
  {
   "cell_type": "code",
   "execution_count": null,
   "id": "02384a78-ba9f-44a6-a2f9-2093b070cc3c",
   "metadata": {},
   "outputs": [],
   "source": [
    "%%bash\n",
    "\n",
    "## TEST YOUR SKILLS (enter and run your answers here)\n",
    "\n",
    "## Now write the same loop but instead of the append command >> use the redirect command >\n",
    "\n",
    "## How does the output file change? \n",
    "\n",
    "## Why is this, what is the difference between the append command >> and the redirect command > ? (hint check the section above about creating and organizing files)\n"
   ]
  },
  {
   "cell_type": "code",
   "execution_count": null,
   "id": "357e0c02-0f6f-4d69-bc62-64fc86411115",
   "metadata": {},
   "outputs": [],
   "source": [
    "# FLASHCARD\n",
    "from IPython.display import IFrame\n",
    "IFrame(\"quiz_files/quiz4-2.html\", width=600, height=250)"
   ]
  },
  {
   "cell_type": "markdown",
   "id": "c1bb1dd1-19d8-4ad4-a57b-adc4512164f8",
   "metadata": {},
   "source": [
    "#### nohup\n",
    "\n",
    "These example programs run quickly, but stringing together multiple complex commands in a bash script is common and these programs often take many hours or sometimes days to run. In these cases we might want to close our computer and go and do some other stuff while our program is running.\n",
    "\n",
    "We can achieve this using the command `nohup` which stands for *no hang up* and allows us to run a series of commands in the background, but disconnects the process from the terminal window you initially submit it through, so you are free to close the terminal window and the process will continue to run until completion. When you return the text that would have printed to the screen is automatically saved in a file called **nohup.out**. \n",
    "\n",
    "As with the `nano` command using `nohup` in the Jupyter notebook isn't recommended but this command is very useful in the terminal environment. The syntax of the `nohup` command is `nohup COMMAND -flag -flag -flag argument1 argument2 &` where the command and any flags and arguments are proceeded by the `nohup` command and adding `&` to the end of the command sends the process to the background. \n",
    "\n",
    "Try running the following code in the terminal window\n",
    "\n",
    "    ```\n",
    "    nohup bash count_ATGC.sh aws_research_workflow/SRR1039508_1.chr20.fastq.gz &\n",
    "    ```"
   ]
  },
  {
   "cell_type": "code",
   "execution_count": null,
   "id": "729b493c-8971-4d2c-a74e-4ffd930506cb",
   "metadata": {
    "tags": []
   },
   "outputs": [],
   "source": [
    "%%bash\n",
    "\n",
    "# Show the result\n",
    "cat nohup.out"
   ]
  }
 ],
 "metadata": {
  "environment": {
   "kernel": "python3",
   "name": "common-cpu.m104",
   "type": "gcloud",
   "uri": "gcr.io/deeplearning-platform-release/base-cpu:m104"
  },
  "kernelspec": {
   "display_name": "Python 3",
   "language": "python",
   "name": "python3"
  },
  "language_info": {
   "codemirror_mode": {
    "name": "ipython",
    "version": 3
   },
   "file_extension": ".py",
   "mimetype": "text/x-python",
   "name": "python",
   "nbconvert_exporter": "python",
   "pygments_lexer": "ipython3",
   "version": "3.7.12"
  }
 },
 "nbformat": 4,
 "nbformat_minor": 5
}
