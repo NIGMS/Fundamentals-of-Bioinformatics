{
 "cells": [
  {
   "cell_type": "code",
   "execution_count": null,
   "id": "56f9232e-9d74-495f-87d8-20a2498d2f86",
   "metadata": {},
   "outputs": [],
   "source": [
    "from jupytercards import display_flashcards\n",
    "#cards='/home/jupyter/flashcards/'\n",
    "display_flashcards('/home/jupyter/flashcards/quiz1-1.json')"
   ]
  }
 ],
 "metadata": {},
 "nbformat": 4,
 "nbformat_minor": 5
}
