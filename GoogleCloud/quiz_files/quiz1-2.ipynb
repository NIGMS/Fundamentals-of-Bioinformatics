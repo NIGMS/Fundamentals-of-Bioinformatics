{
 "cells": [
  {
   "cell_type": "code",
   "execution_count": null,
   "id": "bcd03b54-2de6-45d4-a128-b76b3c4b5177",
   "metadata": {},
   "outputs": [],
   "source": [
    "from jupytercards import display_flashcards\n",
    "cards='/home/jupyter/flashcards/'\n",
    "display_flashcards('/home/jupyter/flashcards/quiz1-2.json')"
   ]
  }
 ],
 "metadata": {},
 "nbformat": 4,
 "nbformat_minor": 5
}
