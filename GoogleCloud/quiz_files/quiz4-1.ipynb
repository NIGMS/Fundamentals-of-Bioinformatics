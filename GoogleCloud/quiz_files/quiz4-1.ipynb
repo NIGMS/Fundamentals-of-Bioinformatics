{
 "cells": [
  {
   "cell_type": "code",
   "execution_count": null,
   "id": "113fb089-7d61-481e-9473-f72bf2ed5371",
   "metadata": {},
   "outputs": [],
   "source": [
    "from jupytercards import display_flashcards\n",
    "cards='/home/jupyter/flashcards/'\n",
    "display_flashcards('/home/jupyter/flashcards/quiz4-1.json')"
   ]
  },
  {
   "cell_type": "code",
   "execution_count": null,
   "id": "1eefe180-d5c7-4758-b616-c2c1206bf95c",
   "metadata": {},
   "outputs": [],
   "source": []
  }
 ],
 "metadata": {},
 "nbformat": 4,
 "nbformat_minor": 5
}
