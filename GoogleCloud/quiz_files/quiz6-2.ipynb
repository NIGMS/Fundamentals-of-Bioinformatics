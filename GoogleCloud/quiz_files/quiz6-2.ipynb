{
 "cells": [
  {
   "cell_type": "code",
   "execution_count": null,
   "id": "113fb089-7d61-481e-9473-f72bf2ed5371",
   "metadata": {},
   "outputs": [],
   "source": [
    "from jupytercards import display_flashcards\n",
    "cards='../flashcards/'\n",
    "display_flashcards('../flashcards/quiz6-2.json')"
   ]
  },
  {
   "cell_type": "code",
   "execution_count": null,
   "id": "1ecfd18a-4152-4082-9a1d-861a4a7b995f",
   "metadata": {},
   "outputs": [],
   "source": []
  }
 ],
 "metadata": {},
 "nbformat": 4,
 "nbformat_minor": 5
}
