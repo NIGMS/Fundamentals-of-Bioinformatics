{
 "cells": [
  {
   "cell_type": "markdown",
   "id": "8678bf4e-e3db-4c9a-9c1d-f70e3860b043",
   "metadata": {},
   "source": [
    "# Getting Started with the Terminal\n",
    "------\n",
    "### Learning Objectives:\n",
    "\n",
    "+ Learn to navigate and interact with a Jupyter notebook\n",
    "\n",
    "+ Learn how to open a terminal window in the Jupyter notebook and on your own machine\n",
    "\n",
    "+ Understand how to navigate directory structures with absolute and relative paths\n",
    "\n",
    "+ Establish best practices for naming files on the terminal"
   ]
  },
  {
   "cell_type": "markdown",
   "id": "b0c0a785-20ac-4106-b57e-2d06c03b7ba6",
   "metadata": {},
   "source": [
    "<span style=\"color:black\">Watch [this video](https://www.youtube.com/watch?v=VjAwUJpgZWM&list=PLXaEJPtnQ4w7Vu7vqWbttBjUGrPp4Qa7b&index=2) for an Introduction to Submodule 1</span>"
   ]
  },
  {
   "cell_type": "markdown",
   "id": "bf672094-38a4-4e24-87de-598a0befd5d1",
   "metadata": {},
   "source": [
    "\n",
    "## Jupyter Notebook Basics\n",
    "--------\n",
    "Jupyter notebook is a web interface that leverages the python coding language. It is an excellent tool for creating and sharing coding resources as it enables one to build blocks of text called cells in either code format, markdown text format, or raw text format. \n",
    "\n",
    "\n",
    "<p align=\"center\">\n",
    "    <img src=\"images/jupyterNotebook_annotated.png\" alt=\"jupyterNotebook\" width=\"50%\"/>\n",
    "</p>\n",
    "\n",
    "\n",
    "Cells in the code format can be selected with your mouse and executed within the notebook such that the results of the code chunk will print to your screen. The cell below is in the **code format** there are three types of lines in this cell. \n",
    "\n",
    "- The first line `%%bash` indicates the code that follows is in the BASH coding language.\n",
    "- The second line is in green and starts with a `#` this is a comment line. Commented lines are used to describe the action the code line below will take. These lines are important because they help you think logically about what the code is doing. Importantly any line that begins with a `#` will not be executed, so if there is code that you don't want to run in a cell you can add a `#` in front of it and the code will not be executed.\n",
    "- The third line is the code line, in this code we use the `echo` command to print the argument \"Hello World\" to the screen.\n",
    "\n",
    "To run the code in a code cell, click on the cell and use the **Run Code** button in the menu above. The code will be executed and the results will be printed below the code cell in your notebook. You can also run the command by clicking on the code cell and using the `shift + enter` keys. \n"
   ]
  },
  {
   "cell_type": "code",
   "execution_count": null,
   "id": "37a3c9e6-9725-41eb-a284-774efe841bcf",
   "metadata": {},
   "outputs": [],
   "source": [
    "%%bash\n",
    "\n",
    "# The echo command prints the string argument to the screen\n",
    "echo \"Hello World\""
   ]
  },
  {
   "cell_type": "markdown",
   "id": "54959383-4605-42ad-bd55-fe2c09d4d498",
   "metadata": {},
   "source": [
    "<div class=\"alert alert-block alert-warning\">\n",
    "    <i class=\"fa fa-question-circle-o\" aria-hidden=\"true\"></i>\n",
    "    <b>TEST YOUR SKILLS</b> \n",
    "      <p>Practice your skills in the code block below</p>\n",
    "        <div style=\"background-color: white ; color:black; padding: 3px;\">Copy the command above, but add a # symbol in front of the code line.<br><br>How does this change the output?<br>Why?<br><br> Run the #FLASHCARD code block to see the answer.</div>\n",
    "    \n",
    "</div>"
   ]
  },
  {
   "cell_type": "code",
   "execution_count": null,
   "id": "b94461dd-996b-4419-9822-127a46967918",
   "metadata": {},
   "outputs": [],
   "source": [
    "%%bash\n",
    "\n",
    "# TEST YOUR SKILLS (enter and run your answer here)\n",
    "\n",
    "# Copy the command above but add a # symbol in front of the code line \n",
    "\n",
    "\n",
    "# How does this change the output? \n",
    "# Why?"
   ]
  },
  {
   "cell_type": "code",
   "execution_count": null,
   "id": "dd071114-5301-4650-8f0a-15b99e65b230",
   "metadata": {},
   "outputs": [],
   "source": [
    "# FLASHCARDS\n",
    "\n",
    "from IPython.display import IFrame\n",
    "IFrame(\"quiz_files/quiz1-1.html\", width=600, height=350)"
   ]
  },
  {
   "cell_type": "markdown",
   "id": "a26ac6a7-05e0-4c99-ad3a-32f2829d2b14",
   "metadata": {},
   "source": [
    "\n",
    "You may notice that each cell has a vertical line to the left of it when the cell has been selected, you can click on the vertical line and collapse the cell. The same is true for the output of the code cell. Collapsing cells comes in pretty handy when the results of the code cell are long! Another way to manage commands with lengthy results is by enabling scrolling. To do this right click anywhere within the notebook and select the option for `Enable Scrolling for Outputs`.\n",
    "\n",
    "<p align=\"center\">\n",
    "    <img src=\"images/enableScrolling.png\" alt=\"enableScrolling\" width=\"30%\"/>\n",
    "</p>\n",
    "\n",
    "\n",
    "**Markdown text cells** are cells with the text formatted as you might see it in a document created with a word processor. These cells make annotating the code blocks easier to read as you can **bold text** or *italicize text* in addition to using headers, creating tables, etc. The cell you're currently reading is in the markdown format and if you double click it you will notice the shorthands used to format the text and can add your own text to the cell. \n",
    "\n",
    "**Raw text cells** are useful for taking your own notes as you move through the lesson. \n",
    "\n",
    "The integration of the code cells, formatted explanations of the code in the markdown format, and ability to take your own notes in the raw text format make Jupyter notebook a powerful teaching tool for interfacing with computational data without the need for multiple windows open to interface with your data. However, Jupyter notebook is not a scalable solution for working with large genomics datasets. For these datasets you will need to interact with the terminal environment. You can open a terminal window within your Jupyter notebook by using the *File* menu and selecting *New* and *Terminal* from the drop down menu. \n",
    "\n",
    "<p align=\"center\">\n",
    "<img src=\"images/openTerminal.png\" alt=\"openTerminal\" width=\"50%\"/>\n",
    "</p>\n",
    "\n",
    "\n",
    "The terminal window will be in a separate tab from your notebook but you can (and SHOULD) copy the code from the code cells of the notebook to get practice and experience with navigating the terminal environment. One thing to note when copy and pasting is that each Jupyter notebook code cell will begin with the line `%%bash`, this does not need to be copied into the terminal. This line indicates that the *BASH* coding language is used in the code cell. *BASH* is the default coding language for most Linux based machines, i.e., it comes preinstalled on your machine and is the default interface for the terminal application. The base coding language in the Jupyter notebook is python, which is why the line is required for the notebook but not in the terminal.   \n"
   ]
  },
  {
   "cell_type": "markdown",
   "id": "7b4f85bf-738f-46f7-b690-e64a94ce200d",
   "metadata": {},
   "source": [
    "## Terminal Basics\n",
    "--------\n",
    "\n",
    "The terminal environment is a program that takes commands from your keyboard and passes them to an operating system that will execute them. If you have not used a terminal environment to interact with genomic data you might have used a *Graphical User Interface (GUI)* which is a pictorial wrapper for the terminal environment. Rather than passing commands through a keyboard a GUI enables you to select preinstalled options that can be handed to the operating system. \n",
    "\n",
    "Interacting with a system through the terminal environment has many advantages over a GUI. The terminal allows you to quickly and easily navigate through directories on your computer, make, copy, and search files in a systematic way, and construct pipelines that will execute complex tasks on big datasets.\n",
    "\n",
    "Importantly, the terminal allows us to do each of these in the context of bioinformatics data and bioinformatics software.\n",
    "\n",
    "### Why Learn to Use the Terminal?\n",
    "\n",
    "GUIs enable you to interact with your files and software in very limited ways by clicking buttons or selecting check boxes that correspond to choices you can make about how the software can run. Due to the design of the GUI the options available for any piece of software are limited to the most popular options, but these options do not represent the full potential of the software used by the GUI wrapper. These options may not be optimal for the dataset that you are working with, and the software might not be the latest version. When this happens you will run into what we call \"bugs\" where the GUI crashes or times out before the data are processed. In this case you may be able to update your GUI, but often you're left looking desperately for another tool that will do something similar. \n",
    "\n",
    "\n",
    "<table>\n",
    "<tr><th>Advantages of using the terminal </th></tr>\n",
    "<tr><td><table></table>\n",
    "\n",
    "|Considerations|GUI|Terminal| \n",
    "|--|--|--|\n",
    "|Software options available| Limited options|All possible options|\n",
    "|Software version|Static|Easy to update |\n",
    "|Debugging|Difficult without input from the developer|Some Google-fu required from the user with information from error logs|\n",
    "\n",
    "</td></tr> </table>\n",
    "\n",
    "In the terminal environment it is easy to update the software package if it crashes or times out on while processing your data. You also have access to the full suite of possibilities intended by the software developer by interacting with the software through the CLI. This enables more flexibility in your analysis and the ability to leverage options that are optimal for processing your dataset. Lastly when the software does crash there is generally an error message or a log file explaining what process caused the crash. Mitigating these issues requires a little \"google-fu\" on your part combing through stack exchange messages where previous users of the same software got the same error message and have implemented various fixes, more on this in submodule 7 **Error mitigation**. \n"
   ]
  },
  {
   "cell_type": "markdown",
   "id": "ffdf8adf-ce9e-462d-94d4-3d44b850c0ee",
   "metadata": {},
   "source": [
    "\n",
    "### Getting Started in the Terminal Environment\n",
    "\n",
    "There are different types of terminal environments, however the most common is *BASH* (the *Bourne Again Shell*). As I mentioned previously this is the type of terminal used in the Jupyter notebook. You also have access to a terminal environment on your local machine.\n",
    "\n",
    "- On a Mac or Linux system, the *Terminal* application provides access to the shell. There are also applications that you can download that provide customization not present in the Terminal application, such as [iTerm2](https://iterm2.com/).\n",
    "- On a Windows system, you can use an application such as [MobaXterm](https://mobaxterm.mobatek.net/).\n",
    "\n",
    "When you open your terminal window you will be presented with the command prompt `$` where you are able to input commands. If the terminal is busy and cannot currently accept new commands, you will not be presented with the prompt.\n",
    "\n",
    "When the prompt is shown, you can enter commands by typing them in after the prompt. Commands are typically composed of three components:  \n",
    "- the command itself  \n",
    "- any flags or options you wish to run the command with (not always required)\n",
    "- and an argument\n",
    "\n",
    "\n",
    "<p align=\"center\">\n",
    "  <img src=\"images/terminal_annotated.png\" width=\"60%\"/>\n",
    "</p>\n",
    "\n",
    "\n",
    "In the above example, we are asking the terminal to pass the `mkdir` command to the operating system (for making directories) with the `-p` option (which just let's us make parent and sub directories at the same time) and the argument detailing the name of the directories we want the command to make.\n",
    "\n",
    "Manual pages for specific commands can be accessed using the `man` command. You can run this command by selecting the code cell below and pressing `shift + return` to execute the command in the notebook. You can also copy the command and paste it into your terminal window tab. The output of the command will be identical.\n"
   ]
  },
  {
   "cell_type": "code",
   "execution_count": null,
   "id": "054614c2-3eb0-46bc-91a1-2578593f3687",
   "metadata": {},
   "outputs": [],
   "source": [
    "%%bash\n",
    "\n",
    "# Look at the manual for the mkdir command\n",
    "man mkdir"
   ]
  },
  {
   "cell_type": "markdown",
   "id": "7353d25e-9eed-4ff7-9176-502a0b3b9773",
   "metadata": {},
   "source": [
    "Notice that in the terminal window to exit out of the manual we had to use the `q` to get the prompt to return. Another way of looking at a summary of the information in the manual page is with the `--help` flag. Try typing `mkdir --help` in the terminal window. The information in the manual pages tends to be more clearly laid out and better organized, but the `--help` flag is a quick and easy way to remind yourself of the flags available.\n",
    "\n",
    "The terminal has a number of commands that allow us to explore our current working directory, as well as change the current working directory to another location. \n",
    "\n",
    "For example:\n"
   ]
  },
  {
   "cell_type": "code",
   "execution_count": null,
   "id": "eece6f44-890c-44f5-9874-62bf0c9a7a2c",
   "metadata": {},
   "outputs": [],
   "source": [
    "%%bash\n",
    "\n",
    "# 'ls' command lists files in our current working directory\n",
    "ls"
   ]
  },
  {
   "cell_type": "code",
   "execution_count": null,
   "id": "70237a83-b624-428e-a652-aeaddbf05b53",
   "metadata": {},
   "outputs": [],
   "source": [
    "%%bash\n",
    "\n",
    "# Run ls with the '-a' flag to include hidden files\n",
    "ls -a"
   ]
  },
  {
   "cell_type": "code",
   "execution_count": null,
   "id": "88e385d0-7c63-4c77-985d-e06596a7456b",
   "metadata": {},
   "outputs": [],
   "source": [
    "%%bash\n",
    "\n",
    "# Now let's check the permissions of files in the current working directory \n",
    "ls -la\n",
    "\n",
    "# In the command above I combined 2 flags 'l' and 'a' behind a single hyphen I could also have written that command as \n",
    "#ls -l -a"
   ]
  },
  {
   "cell_type": "code",
   "execution_count": null,
   "id": "7be4e622-2e2d-4361-a3cd-6a9aad7ef6db",
   "metadata": {},
   "outputs": [],
   "source": [
    "%%bash\n",
    "\n",
    "# let's look at all of the options available with the 'ls' command\n",
    "ls --help"
   ]
  },
  {
   "cell_type": "markdown",
   "id": "c2beade6-7250-4104-9ece-ae5f60dc3dd5",
   "metadata": {},
   "source": [
    "<div class=\"alert alert-block alert-warning\">\n",
    "    <i class=\"fa fa-question-circle-o\" aria-hidden=\"true\"></i>\n",
    "    <b>TEST YOUR SKILLS</b> \n",
    "      <p>Practice your skills in the code block below</p>\n",
    "        <div style=\"background-color: white ; color:black; padding: 3px;\"> Follow the prompts to create commands that leverage different flags of the ls command: <br><br> 1. Write a command that uses the long format to list files but with a human readable format. <br>2. Write a command that lists the files in the reverse order (including hidden files). <br> 3. Write a command that lists the contents of the directory called 'figures'.</div>\n",
    "    \n",
    "</div>"
   ]
  },
  {
   "cell_type": "code",
   "execution_count": null,
   "id": "f49506c2-6c72-449e-9197-542f50d14678",
   "metadata": {},
   "outputs": [],
   "source": [
    "%%bash\n",
    "\n",
    "# TEST YOUR SKILLS - (enter and run your answers here) \n",
    "#Follow the prompts to create commands that leverage different flags of the ls command:\n",
    "\n",
    "# Write a command that uses the long format to list files but with a human readable format\n",
    "\n",
    "# Write a command that lists the files in the reverse order (including hidden files)\n",
    "\n",
    "# Write a command that lists the contents of the directory called 'figures'\n"
   ]
  },
  {
   "cell_type": "markdown",
   "id": "2cda9c8c-d2d0-4380-b332-4ff1a644ea51",
   "metadata": {},
   "source": [
    "## Paths, Where Is Your Data Stored?\n",
    "-------------------\n",
    "\n",
    "<span style=\"color:black\">**Learn more by watching [this video](https://www.youtube.com/watch?v=1UsjiH4h7iA&list=PLXaEJPtnQ4w7Vu7vqWbttBjUGrPp4Qa7b&index=3)**</span>\n",
    "\n",
    "A path is the address that indicates where your data are stored. If I told you that my data was stored in a directory (folder) called `data` , you would understand that you should search for a folder on my computer called `data`. In some cases there may be multiple directories called data and we would need to distinguish which directory contains the data of interest. In the image below there is a directory (folder) called `data_analysis`, which contains two directories called `project-1` and `project-2`. Each project directory contains another directory called `data`.\n",
    "\n",
    "<p align=\"center\">\n",
    "    <img src=\"images/directoryStructure.png\" alt=\"jupyterNotebook\" width=\"30%\"/>\n",
    "</p>\n",
    "\n",
    "The path `data_analysis/project-1/data/` refers specifically to the `data` directory in `project-1`. Each directory and sub-directory in the path are separated by the forward slash `/` to indicate the path through the directories to the directory of interest. For most bioinformatic software you will need to submit the location of the files you would like to analyze using a path. \n",
    "\n",
    "The command `pwd` in BASH is used to print the path of the current directory, `pwd` stands for *print working directory*. Test out the **print working directory** `pwd` command below to see what is returned.\n"
   ]
  },
  {
   "cell_type": "code",
   "execution_count": null,
   "id": "f4dc07da-3f1f-4c3e-bc97-b61c25451c72",
   "metadata": {},
   "outputs": [],
   "source": [
    "%%bash\n",
    "\n",
    "# Run `pwd` to find out where we are in the virtual machine\n",
    "pwd"
   ]
  },
  {
   "cell_type": "code",
   "execution_count": null,
   "id": "e021c76c-90a4-4a45-8394-3f02719afac9",
   "metadata": {},
   "outputs": [],
   "source": [
    "%%bash\n",
    "\n",
    "# Run the `ls` command to look at what the organization of the working directory looks like\n",
    "ls"
   ]
  },
  {
   "cell_type": "markdown",
   "id": "e71c89cd-0c6a-4da2-915c-46ec1f975ae6",
   "metadata": {},
   "source": [
    "You can see that we are in the `jupyter` directory and this directory is inside a directory called `home`. \n",
    "\n",
    "Within `jupyter` there is another directory called `images`. We can move into that directory with the `cd` *change directory* command and check our path again.\n"
   ]
  },
  {
   "cell_type": "code",
   "execution_count": null,
   "id": "e520676d-3e75-4d54-b488-2944e5478b1f",
   "metadata": {},
   "outputs": [],
   "source": [
    "%%bash\n",
    "\n",
    "# Move into the images directory\n",
    "cd images\n",
    "\n",
    "#Check the path to your current working directory\n",
    "pwd"
   ]
  },
  {
   "cell_type": "code",
   "execution_count": null,
   "id": "85f3ba4f-3d55-4484-bf7e-7a857341b278",
   "metadata": {},
   "outputs": [],
   "source": [
    "%%bash\n",
    "\n",
    "# Now let's make a new folder in this directory\n",
    "mkdir -p images/new_folder\n",
    "\n",
    "# Navigate to the new folder and print path\n",
    "cd images/new_folder\n",
    "pwd"
   ]
  },
  {
   "cell_type": "markdown",
   "id": "f6aefbc8-29ee-4673-a001-ca0567631dd0",
   "metadata": {},
   "source": [
    "### Absolute vs. Relative Paths\n",
    "\n",
    "The command `pwd` returns the **absolute path** to your current working directory which is the list of all directories and subdirectories to get from the current directory to the root or home directory. You can see that absolute paths can get long and unwieldy, especially if you have very detailed or long directory names. \n",
    "\n",
    "One \"shortcut\" that makes navigating the command line a bit easier is using a **relative path**. A **relative path** uses the directory structure (which we can see in our absolute path returned by the command `pwd`) to move up or down through directories using shortcuts. One very common shortcut is `..` which translates to the directory one level \"above\" your current directory. \n",
    "\n",
    "From `/home/jupyter/images/new_folder` we could get back to `/home/jupyter/images` using the **absolute path** with the command `cd /home/jupyter/images`or we can use the **relative path** `cd ../`. \n",
    "\n",
    "This shortcut saves a lot of time and typing BUT it requires that you have a good understanding of where you are in your directory structure, so do not be shy about using the `pwd` command. \n",
    "\n",
    "A key difference to remember the **absolute path** will always point you to the same location regardless of your current working directory. A **relative path** like `cd ../` will always point to the directory above your current working directory but your new location will be *relative* to your current working directory. \n"
   ]
  },
  {
   "cell_type": "markdown",
   "id": "c06ad402-430f-4d02-86bd-50134b8e5cac",
   "metadata": {},
   "source": [
    "<div class=\"alert alert-block alert-warning\">\n",
    "    <i class=\"fa fa-question-circle-o\" aria-hidden=\"true\"></i>\n",
    "    <b>TEST YOUR SKILLS</b> \n",
    "      <p>Practice your skills in the code block below</p>\n",
    "    <div style=\"background-color: white ; color:black; padding: 3px;\">1. Create a directory in /home/jupyter called: my_directory<br>2. Create a directory in /home/jupyter called: new_dir<br>3. Practice using `..` to move through your directories<br><br> Run the #FLASHCARD code block to see the answers.</div>\n",
    "    \n",
    "</div>"
   ]
  },
  {
   "cell_type": "code",
   "execution_count": null,
   "id": "dc92361d-e446-4935-8096-b7b23c108dec",
   "metadata": {},
   "outputs": [],
   "source": [
    "%%bash\n",
    "#  TEST YOUR SKILLS (enter and run you answers here)\n",
    "\n",
    "# Create a directory in /home/jupyter called my_directory\n",
    "\n",
    "# Create a directory in /home/jupyter called new_dir\n",
    "\n",
    "# Practice using the shortcut `..` to move through \n"
   ]
  },
  {
   "cell_type": "code",
   "execution_count": null,
   "id": "4636951b-f2dc-45bf-8828-c474781732e8",
   "metadata": {},
   "outputs": [],
   "source": [
    "#FLASHCARD\n",
    "from IPython.display import IFrame\n",
    "IFrame(\"quiz_files/quiz1-2.html\", width=600, height=350)"
   ]
  },
  {
   "cell_type": "markdown",
   "id": "2778cafe-48c7-4849-afa8-a8db1bb795e1",
   "metadata": {},
   "source": [
    "<div class=\"alert alert-block alert-warning\">\n",
    "    <i class=\"fa fa-question-circle-o\" aria-hidden=\"true\"></i>\n",
    "    <b>TEST YOUR SKILLS</b> \n",
    "      <p>Practice your skills in the code block below</p>\n",
    "    <div style=\"background-color: white ; color:black; padding: 3px;\">1. Navigate to the directory you just made called my_directory using an absolute path<br>2. Check where you are with pwd<br>3. Use a relative path to navigate to /home/jupyter/new_dir<br><br> Run the #FLASHCARD code block to see the answer.</div>\n",
    "    \n",
    "</div>"
   ]
  },
  {
   "cell_type": "code",
   "execution_count": null,
   "id": "4f4ec472-337b-43a8-947d-bc680f2af0ec",
   "metadata": {},
   "outputs": [],
   "source": [
    "%%bash\n",
    "# TEST YOUR SKILLS (enter and run your answers here)\n",
    "\n",
    "# Navigate to the directory /home/directory/images/new_folder with an absolute path\n",
    "\n",
    "# Check where you are with pwd\n",
    "\n",
    "# Use a relative path to navigate to the directory /home/jupyter/my_directory"
   ]
  },
  {
   "cell_type": "code",
   "execution_count": null,
   "id": "bfccc937-62e7-48c8-9745-1e03236f3e2c",
   "metadata": {},
   "outputs": [],
   "source": [
    "# FLASHCARD\n",
    "from IPython.display import IFrame\n",
    "IFrame(\"quiz_files/quiz1-3.html\", width=600, height=350)"
   ]
  },
  {
   "cell_type": "markdown",
   "id": "3ae4b9a0-4eff-427e-bc7e-a292dc42f76d",
   "metadata": {},
   "source": [
    "## File Naming Considerations\n",
    "---------\n",
    "\n",
    "You might have noticed that all of my filenames use `_` or `-` to separate words rather than spaces. Within commands spaces are generally used to separate arguments. Spaces within filenames will need to be *escaped* with the back slash symbol `\\`in the terminal environment. That is we will need to explicitly indicate that the space is part of the filename and NOT an indication that a second argument is being provided to the command.\n",
    "\n",
    "To see what I mean let's try creating a new empty file with spaces in the name. To create our new empty file we will use the `nano` text editor application. This application isn't available in the Jupyter notebook so follow the steps below in your terminal window.\n",
    "\n",
    "1. Type `nano` into the terminal window\n",
    "2. Copy and paste the following into the window : `Some silly text to demo bad file naming syntax`\n",
    "3. Use the `ctrl + X` keys to exit the nano text editor\n",
    "4. Use the `Y` key to indicate that you would like to save this file\n",
    "5. Copy and paste this name into the text editor `Some filename with spaces.txt`\n",
    "\n",
    "\n",
    "Now let's have a look at the first ten lines of our file with the command `head`."
   ]
  },
  {
   "cell_type": "code",
   "execution_count": null,
   "id": "695ccdbd-7aeb-4997-aa19-a890b21fe013",
   "metadata": {},
   "outputs": [],
   "source": [
    "%%bash\n",
    "\n",
    "# Look at the first ten lines of our file with the head command \n",
    "head Some filename with spaces.txt"
   ]
  },
  {
   "cell_type": "markdown",
   "id": "03c3ad86-8f0e-4bd1-bcf3-c2a0ebdedaee",
   "metadata": {},
   "source": [
    "\n",
    "The error you received was because the spaces were not escaped, so the command interpreted each line of text separated by a space as a new argument. Essentially this command was looking for one file called \"Some\", one called \"filename\", one called \"with\", and one more called \"spaces.txt\". \n",
    "\n",
    "Now let's use the `head` command again but this time with the spaces escaped."
   ]
  },
  {
   "cell_type": "code",
   "execution_count": null,
   "id": "5373b16f-5a2a-4104-9238-436576d816b5",
   "metadata": {},
   "outputs": [],
   "source": [
    "%%bash\n",
    "\n",
    "# Look at the first ten lines of our file with the head command\n",
    "head Some\\ filename\\ with\\ spaces.txt"
   ]
  },
  {
   "cell_type": "markdown",
   "id": "b33d5186-931e-4676-91fc-a0626907ba90",
   "metadata": {},
   "source": [
    "\n",
    "You can see what I mean by spaces in filenames being annoying, this is especially true if spaces are in both directory names and filenames, your paths will get confusing. Instead most programmers will opt to use a substitute for the space :\n",
    "\n",
    "**1. Using _ instead of spaces:** <br>\n",
    " filename_with_no_spaces.txt <br>\n",
    "**2. Using . instead of spaces:** <br>\n",
    " filename.with.no.spaces.txt<br>\n",
    "**3. Using - instead of spaces:**<br>\n",
    " filename-with-no-spaces.txt<br>\n",
    "**4. Using camel case, every word is capitalized to distinguish a new word starting:**<br>\n",
    " fileNameWithNoSpaces.txt<br>\n"
   ]
  }
 ],
 "metadata": {
  "kernelspec": {
   "display_name": "Python 3 (ipykernel) (Local)",
   "language": "python",
   "name": "conda-base-py"
  },
  "language_info": {
   "codemirror_mode": {
    "name": "ipython",
    "version": 3
   },
   "file_extension": ".py",
   "mimetype": "text/x-python",
   "name": "python",
   "nbconvert_exporter": "python",
   "pygments_lexer": "ipython3",
   "version": "3.10.16"
  }
 },
 "nbformat": 4,
 "nbformat_minor": 5
}
