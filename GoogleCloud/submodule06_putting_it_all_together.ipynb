{
 "cells": [
  {
   "cell_type": "markdown",
   "id": "5bcba190-50fa-4993-89ba-3f6dd45d9ea3",
   "metadata": {},
   "source": [
    "# Putting It All Together\n",
    "------\n",
    "### Learning Objectives:\n",
    "+ Use the skills developed in previous lessons to assemble a genome\n",
    "\n",
    "Now you have been through most of the lessons and believe it or not you have the basics of the skills you need for most bioinformatic analyses. At this point you should be able to interact with your data through the terminal interface, you know how to use the help flag to learn how to use and customize BASH commands, you can build complex commands with the pipe and execute those commands on a set of files with looping and BASH scripts, you understand the data structure of several common genomic file formats, and you can install software with the Conda package manager. \n",
    "\n",
    "\n",
    "## Creating a Conda Environment for Genome Assembly\n",
    "----------\n",
    "\n",
    "Best practices for creating conda environments are to create an environment for each analysis task that you need to perform. Here we will create two conda environments, one for genome assembly and a second for genome annotation using the `conda create` command. Your assembly environment will contain software for downloading sequences from the SRA (`sra-tools`), checking the quality of the raw data we download (`fastqc`), and assembling fastq reads into a complete genome (`spades`). Your annotation environment will contain software for annotating the assembly (`prokka`)."
   ]
  },
  {
   "cell_type": "code",
   "execution_count": null,
   "id": "ac12ca19-ef6a-4554-92b2-9b4489a4b107",
   "metadata": {
    "tags": []
   },
   "outputs": [],
   "source": [
    "%%bash\n",
    "\n",
    "# create a conda environment called assembly with all required software\n",
    "conda create -n assembly --channel bioconda python=3.9 ipykernel fastqc sra-tools spades -y"
   ]
  },
  {
   "cell_type": "markdown",
   "id": "cae160f6-55c2-41c4-a4e7-7adfcdec4e6d",
   "metadata": {},
   "source": [
    "<div class=\"alert alert-block alert-info\">\n",
    "    <i class=\"fa fa-lightbulb-o\" aria-hidden=\"true\"></i>\n",
    "    <b>Tip: </b> Remember if the conda env isn't showing up after a couple minutes you can try running the following command to update the kernels available in your session. Dont forget to switch to the Python 3 kernel to be able to run the code otherwise you will get a \"No module named nb_conda_kernels\" error.\n",
    "</div>"
   ]
  },
  {
   "cell_type": "code",
   "execution_count": null,
   "id": "d01931d3-9643-4f77-946c-cad907a6613e",
   "metadata": {},
   "outputs": [],
   "source": [
    "%%bash\n",
    "# Install nb_conda_kernels. Sometimes this command will error out. If it does, try again.\n",
    "conda install -c conda-forge nb_conda_kernels"
   ]
  },
  {
   "cell_type": "code",
   "execution_count": null,
   "id": "46d5fd0a-ed71-4fbf-82fa-0d40cbb3533a",
   "metadata": {},
   "outputs": [],
   "source": [
    "%%bash\n",
    "python -m nb_conda_kernels list"
   ]
  },
  {
   "cell_type": "markdown",
   "id": "aaaca03d-a968-4346-9ca0-41695f911ab8",
   "metadata": {},
   "source": [
    "We will need two separate environments because of a discrepancy between dependencies in our assembly environment and the tool `prokka`, this is an excellent demonstration of why it is helpful to have multiple well organized conda environments."
   ]
  },
  {
   "cell_type": "code",
   "execution_count": null,
   "id": "96b0a573-59f7-433b-83db-991c0c62c79b",
   "metadata": {},
   "outputs": [],
   "source": [
    "%%bash\n",
    "\n",
    "# Create a second conda environment called annotation with all required software\n",
    "conda create -n annotation --channel bioconda python=3.9 ipykernel prokka perl-bioperl -y"
   ]
  },
  {
   "cell_type": "markdown",
   "id": "3dfeaf18-3be9-4498-a678-67eedb6dcb06",
   "metadata": {},
   "source": [
    "## Creating a New Directory for Your Project\n",
    "----------\n",
    "Again this is optional but it is good practice to organize your projects into directories so that you know where to find all files related to a given project."
   ]
  },
  {
   "cell_type": "code",
   "execution_count": null,
   "id": "f5400184-7607-4611-868e-b325dd272a9f",
   "metadata": {},
   "outputs": [],
   "source": [
    "%%bash\n",
    "\n",
    "# Create a directory to store your data in \n",
    "mkdir assembly_test"
   ]
  },
  {
   "cell_type": "markdown",
   "id": "c3775df0-5f24-4cb5-9371-187daec0d5dc",
   "metadata": {},
   "source": [
    "## Downloading SRA Data (SRA toolkit)\n",
    "----------\n",
    "The sequence read archive is a database hosted by the National Center for Biotechnology Information (NCBI) as a long term storage repository for raw sequencing data. These data are often fairly large (depending on the organism being sequenced) and can take up a lot of space, so it is handy to have a way to access these data when you need them, be able to use the files then delete them and go back and get them if you need them again.\n",
    "\n",
    "Here we are downloading the sequence of a Sars CoV2 sample collected in western New Hampshire in March 2022. Make sure you are on the **assembly** kernel."
   ]
  },
  {
   "cell_type": "code",
   "execution_count": null,
   "id": "9199a45e-5711-464f-8ff5-0dc9708c1f3b",
   "metadata": {
    "tags": []
   },
   "outputs": [],
   "source": [
    "%%bash\n",
    "\n",
    "# Pull the raw fastq files you need from the SRA\n",
    "prefetch -v SRR18241034\n",
    "\n",
    "fastq-dump --outdir assembly_test/ --split-files SRR18241034/SRR18241034.sra\n",
    "\n",
    "# Remove the prefetch directory now that you are finished with it\n",
    "rm -r SRR18241034"
   ]
  },
  {
   "cell_type": "markdown",
   "id": "71867bd0-df4a-43f6-bfd7-b554e0fb1fba",
   "metadata": {},
   "source": [
    "## Checking the Quality of the Data (FastQC)\n",
    "----------\n",
    "When you download data from a public source the first thing you should do is look at the quality of the data you've accessed. Remember it is normal for quality scores to drop off at the end of the read, but ideally we would like to see the majority of bases in a read above 30 and certainly about 25. If you have downloaded low quality data you can always using trimming to improve the quality of reads before assembly/mapping."
   ]
  },
  {
   "cell_type": "markdown",
   "id": "51060a1f-ce15-482b-95ff-8985d53345d8",
   "metadata": {},
   "source": [
    "<div class=\"alert alert-block alert-warning\">\n",
    "    <i class=\"fa fa-question-circle-o\" aria-hidden=\"true\"></i>\n",
    "    <b>TEST YOUR SKILLS</b> \n",
    "      <p>Practice your skills in the code block below</p>\n",
    "    <div style=\"background-color: white ; color:black; padding: 3px;\">Check the quality of the raw data from the SRA with the fastqc tool.<br><br>HINT: This is a command you've used before at the end of submodule 5, if you've forgotten the command syntax you can use fastqc --help to remind you.<br><br> Run the #FLASHCARD code block to see the answer. </div>\n",
    "    \n",
    "</div>"
   ]
  },
  {
   "cell_type": "code",
   "execution_count": null,
   "id": "46c465a0-9c45-43ee-be72-fe62a2546dda",
   "metadata": {},
   "outputs": [],
   "source": [
    "%%bash\n",
    "\n",
    "## TEST YOUR SKILLS (enter and run your answers here)\n",
    "\n",
    "# Check the quality of the raw data\n"
   ]
  },
  {
   "cell_type": "code",
   "execution_count": null,
   "id": "c6273128-b457-4250-bf93-055d847e8b49",
   "metadata": {},
   "outputs": [],
   "source": [
    "# FLASHCARD\n",
    "from IPython.display import IFrame\n",
    "IFrame(\"quiz_files/quiz6-1.html\", width=600, height=250)"
   ]
  },
  {
   "cell_type": "markdown",
   "id": "dd70fe01-c2a7-4978-a655-8b94c41c76a3",
   "metadata": {
    "tags": []
   },
   "source": [
    "## Assembling the Genome (Spades)\n",
    "----------\n",
    "The assembler we are using here, [`spades`](https://bio.tools/spades) is a commonly used assembler for small genomes, think bacteria and viruses. For larger genomes we recommend using something like [`bowtie2`]() or [`bwa`](). \n",
    "\n",
    "<p align=\"center\">\n",
    "<img src=\"images/assembly.jpg\" alt=\"assembly\" width=\"50%\"/>\n",
    "</p>\n",
    "\n",
    "Briefly Spades, like most assemblers, work by breaking reads down into sets of k-mers, short sequences of *n* length and then connecting reads that end in the same k-mer. Reads are connected by building a graph where each read is a node and edges represent k-mer overlaps between the ends of other nodes (reads). The series of overlapping pieces between reads are used to build and extend a consensus sequence in an iterative process to build the longest possible sequence with the overlapping reads. The final fasta file produced, in spades this is called `scaffolds.fasta`, is the set of sequences created by connecting reads to form the longest possible sequences.\n",
    "\n",
    "The syntax for using the `spades.py` command with paired-end reads (what we have here) is `spades.py -1 fwd_reads.fastq -2 rev_reads.fastq -o out_directory`. Conveniently spades also has a flag specifically for assembling Sars CoV2 genomes, `--corona` and we will leverage this flag in our assembly run as well."
   ]
  },
  {
   "cell_type": "code",
   "execution_count": null,
   "id": "fba6bdf8-49ce-4780-9e09-2f52aeda6e9e",
   "metadata": {},
   "outputs": [],
   "source": [
    "%%bash\n",
    "\n",
    "# Have a look at the manual for spades using the --help flag\n",
    "spades.py --help"
   ]
  },
  {
   "cell_type": "code",
   "execution_count": null,
   "id": "fcf66e46-7861-43d5-b2d5-3105229c7dd3",
   "metadata": {
    "scrolled": true,
    "tags": []
   },
   "outputs": [],
   "source": [
    "%%bash\n",
    "\n",
    "# Assembly the genome - this takes ~ 15 minutes\n",
    "spades.py --corona -1 assembly_test/SRR18241034_1.fastq -2 assembly_test/SRR18241034_2.fastq -o assembly_test"
   ]
  },
  {
   "cell_type": "markdown",
   "id": "c5c18d9b-0565-463a-b228-a4e70eeba679",
   "metadata": {},
   "source": [
    "## Annotating the Assembly (Prokka)\n",
    "----------\n",
    "\n",
    "Prokka is a tool that leverages multiple existing annotation softwares and enables parallelization of the task to accomplish rapid annotation of features of interest in microbial genomes. \n",
    "\n",
    "<table>\n",
    "<tr><th>Tools leveraged by Prokka and the features they predict.</th></tr>\n",
    "<tr><td><table></table>\n",
    "\n",
    "|Tool | Features predicted |\n",
    "|--- | --- |\n",
    "| Prodigal | Coding sequences |\n",
    "| RNAmmer | Ribosomal RNA genes (rRNA) |\n",
    "| Aragorn | Transfer RNA genes (tRNA) |\n",
    "| SignalP | Signal leader peptides |\n",
    "| Infernal | non-coding RNA |\n",
    "</td></tr> </table>\n",
    "\n",
    "\n",
    "After annotation prokka returns fasta files containing both protein (.faa) and nucleotide (.fna) sequences as well as an annotation file (.gff) of annotated coding features. We have not used this software in these lessons but try to use the manual to determine what flags might be helpful to include in your annotation. \n",
    "\n",
    "Don't forget to change the conda environment you have loaded from assembly to **annotation**. In the notebook you can use the kernel selection window in the top right corner. In the terminal window use the command `conda deactivate` to leave one conda environment and `conda activate annotation` to enter another conda environment. \n"
   ]
  },
  {
   "cell_type": "markdown",
   "id": "d82f0188-94d2-44d5-bdad-4bbe451c9b61",
   "metadata": {},
   "source": [
    "<div class=\"alert alert-block alert-info\">\n",
    "    <i class=\"fa fa-lightbulb-o\" aria-hidden=\"true\"></i>\n",
    "    <b>Tip: </b> Remember you can add a new cell in your Jupyter notebook with the raw format to take notes.\n",
    "</div>"
   ]
  },
  {
   "cell_type": "markdown",
   "id": "0d4ec7cd-8325-47a9-942d-21e28b3efb00",
   "metadata": {},
   "source": [
    "<div class=\"alert alert-block alert-warning\">\n",
    "    <i class=\"fa fa-question-circle-o\" aria-hidden=\"true\"></i>\n",
    "    <b>TEST YOUR SKILLS</b> \n",
    "      <p>Practice your skills in the code block below</p>\n",
    "    <div style=\"background-color: white ; color:black; padding: 3px;\">Annotate your assembly with the prokka tool.<br><br>HINT: This is not a command you've used before but you can use prokka --help to determine the syntax of the command you will need to run. <br><br>Remember to switch your conda environment to annotation. <br><br>Use the flags to give both the directory and the assembly a name (I would suggest reusing the assembly_test directory as the outdirectory and using SRR18435413 as the prefix for your annotation).<br><br> Run the #FLASHCARD code block to see the answer.</div>\n",
    "    \n",
    "</div>"
   ]
  },
  {
   "cell_type": "code",
   "execution_count": null,
   "id": "7087fb85-5fc8-4907-8dfc-e6afe7430b23",
   "metadata": {},
   "outputs": [],
   "source": [
    "%%bash\n",
    "\n",
    "## TEST YOUR SKILLS (enter and run your answers here)\n",
    "\n",
    "prokka --help\n",
    "# Annotate your assembly\n"
   ]
  },
  {
   "cell_type": "markdown",
   "id": "2c1a457d-5ec1-4005-899e-1bb7beebe367",
   "metadata": {},
   "source": [
    "<div class=\"alert alert-block alert-danger\">\n",
    "    <i class=\"fa fa-exclamation-circle\" aria-hidden=\"true\"></i>\n",
    "    <b>Alert: </b>  There will be some warnings when running prokka - the contigs names are too long, the directory has been created: but there are suggestions for what flags need to be added to mitigate these warnings.\n",
    "</div>"
   ]
  },
  {
   "cell_type": "code",
   "execution_count": null,
   "id": "2e748601-7501-4e5b-aafb-9ea820f6010c",
   "metadata": {},
   "outputs": [],
   "source": [
    "# FLASHCARD\n",
    "from IPython.display import IFrame\n",
    "IFrame(\"quiz_files/quiz6-2.html\", width=600, height=250)"
   ]
  },
  {
   "cell_type": "markdown",
   "id": "5b114653-14f6-4336-97f4-9b4cb4e2ed1c",
   "metadata": {},
   "source": [
    "## Storing your Finalized Dataset\n",
    "---------\n",
    "Once your analysis is complete you will want to store the final output files into a directory that can be easily shared with collaborators. To do this we will create a Google bucket and move the final set of files into it. "
   ]
  },
  {
   "cell_type": "code",
   "execution_count": null,
   "id": "99348767-e134-4872-a04a-39b9b83fc2d7",
   "metadata": {},
   "outputs": [],
   "source": [
    "%%bash\n",
    "# The mb option stands for MAKE BUCKET\n",
    "# gsutil mb gs://NEW_BUCKET_NAME\n",
    "# Create a bucket \n",
    "\n",
    "gsutil mb gs://"
   ]
  },
  {
   "cell_type": "code",
   "execution_count": null,
   "id": "c39911ca-1997-4292-a6c4-d0aa5a15540e",
   "metadata": {},
   "outputs": [],
   "source": [
    "%%bash\n",
    "# Copy the assembled fasta file\n",
    "\n",
    "# Rename the assembly to something that makes sense\n",
    "mv assembly_test/scaffolds.fasta assembly_test/SRR18435413.fasta\n",
    "\n",
    "# Copy the final assembly file into your Google bucket\n",
    "gsutil cp assembly_test/SRR18435413.fasta gs://#Enter_perviously_created_bucket_name"
   ]
  },
  {
   "cell_type": "markdown",
   "id": "9bc20c7f-47c9-4399-bd89-41f182585abe",
   "metadata": {},
   "source": [
    "<div class=\"alert alert-block alert-info\">\n",
    "    <i class=\"fa fa-lightbulb-o\" aria-hidden=\"true\"></i>\n",
    "    <b>Tip: </b>  Make sure that your bucket name follows the criteria below, otherwise the command will end in a <b>error</b>:\n",
    "    <ul>\n",
    "      <li>Can contain letters and numbers but must be a unique name</li>\n",
    "      <li>Does not contain any spaces </li>\n",
    "      <li>Does not contain any uppercase letters</li>\n",
    "      <li>Only special characters it can container if you choose to use them are dots (.) , dashes (-) , and underscores (_)</li>\n",
    "      <li>Does not contain 'google', g00gle' or the prefix 'goog'</li>\n",
    "    </ul>  \n",
    "</div>"
   ]
  },
  {
   "cell_type": "markdown",
   "id": "b537dc34-0cbf-4875-906f-60d3eb75f8d0",
   "metadata": {},
   "source": [
    "<div class=\"alert alert-block alert-warning\">\n",
    "    <i class=\"fa fa-question-circle-o\" aria-hidden=\"true\"></i>\n",
    "    <b>TEST YOUR SKILLS</b> \n",
    "      <p>Practice your skills in the code block below</p>\n",
    "    <div style=\"background-color: white ; color:black; padding: 3px;\">Move the QC report from fastqc into the Google bucket you just created.<br><br> Run the #FLASHCARD code block to see the answer.</div>\n",
    "    \n",
    "</div>"
   ]
  },
  {
   "cell_type": "code",
   "execution_count": null,
   "id": "53489a5b-d21e-467b-be1d-e254ac2de1b7",
   "metadata": {},
   "outputs": [],
   "source": [
    "%%bash\n",
    "\n",
    "## TEST YOUR SKILLS (run and enter your answers here)\n",
    "#Move the QC report from fastqc into the Google bucket you just created.\n"
   ]
  },
  {
   "cell_type": "code",
   "execution_count": null,
   "id": "fb70507b-89bf-4fa7-a1d4-e630cef522b0",
   "metadata": {},
   "outputs": [],
   "source": [
    "# FLASHCARD\n",
    "from IPython.display import IFrame\n",
    "IFrame(\"quiz_files/quiz6-3.html\", width=600, height=250)"
   ]
  },
  {
   "cell_type": "markdown",
   "id": "89c290bb-81a3-4f3d-93bd-ef7b2d1a50d6",
   "metadata": {},
   "source": [
    "<div class=\"alert alert-block alert-warning\">\n",
    "    <i class=\"fa fa-question-circle-o\" aria-hidden=\"true\"></i>\n",
    "    <b>TEST YOUR SKILLS</b> \n",
    "      <p>Practice your skills in the code block below</p>\n",
    "    <div style=\"background-color: white ; color:black; padding: 3px;\">Move the gff file from prokka into your Google bucket.<br><br> Run the #FLASHCARD code block to see the answer.</div>\n",
    "    \n",
    "</div>"
   ]
  },
  {
   "cell_type": "code",
   "execution_count": null,
   "id": "554a7fa3-1c2a-452c-9a65-2f008e689053",
   "metadata": {},
   "outputs": [],
   "source": [
    "%%bash\n",
    "\n",
    "## TEST YOUR SKILLS (run and enter your answers here)\n",
    "#Move the gff file from prokka into your Google bucket.\n"
   ]
  },
  {
   "cell_type": "code",
   "execution_count": null,
   "id": "ffa68899-bc98-4390-a68a-16e93c5f83d3",
   "metadata": {},
   "outputs": [],
   "source": [
    "# FLASHCARD\n",
    "from IPython.display import IFrame\n",
    "IFrame(\"quiz_files/quiz6-4.html\", width=600, height=250)"
   ]
  },
  {
   "cell_type": "code",
   "execution_count": null,
   "id": "22552193-4a10-45d9-ba97-755f4c945333",
   "metadata": {},
   "outputs": [],
   "source": []
  },
  {
   "cell_type": "code",
   "execution_count": null,
   "id": "f543a0ee-fa39-4c53-8602-916b90fb1ea9",
   "metadata": {},
   "outputs": [],
   "source": []
  }
 ],
 "metadata": {
  "environment": {
   "kernel": "conda-env-annotation-py",
   "name": "common-cpu.m104",
   "type": "gcloud",
   "uri": "gcr.io/deeplearning-platform-release/base-cpu:m104"
  },
  "kernelspec": {
   "display_name": "Python [conda env:annotation]",
   "language": "python",
   "name": "conda-env-annotation-py"
  },
  "language_info": {
   "codemirror_mode": {
    "name": "ipython",
    "version": 3
   },
   "file_extension": ".py",
   "mimetype": "text/x-python",
   "name": "python",
   "nbconvert_exporter": "python",
   "pygments_lexer": "ipython3",
   "version": "3.9.16"
  }
 },
 "nbformat": 4,
 "nbformat_minor": 5
}
