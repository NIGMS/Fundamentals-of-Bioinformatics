{
 "cells": [
  {
   "cell_type": "markdown",
   "id": "d4dfd7dd-eb20-4cdb-80ee-e154dc9de8f5",
   "metadata": {},
   "source": [
    "# Error Mitigation\n",
    "\n",
    "------\n",
    "### Learning Objectives:\n",
    "+ Common errors in BASH coding\n",
    "+ Errors in conda environments\n",
    "\n",
    "## Common Errors in BASH Coding\n",
    "----\n",
    "\n",
    "One of the largest barriers to learning to interact with bioinformatics software and data is error mitigation. Becoming fluent in a coding language is fairly challenging, but can be overcome by piecing together code from various sources, and testing each chunk before combining them to create complex code. However, if an error is flagged it can be very difficult to interpret and know what to do next, often there is no indication that something went wrong. If there is a message thrown it doesn't identify exactly where the error occurred and what steps can be taken to mitigate the error. \n",
    "\n",
    "\n",
    "Below is a list of some common errors in BASH coding so you can get a feel for what the errors look like and how to mitigate the issue.\n",
    "\n",
    "- Wrong path\n",
    "- Typo\n",
    "- Space in a file name\n",
    "- Missing required flag or argument\n",
    "\n",
    "### Incorrect Paths\n",
    "\n",
    "Let's start with the wrong path. All of our sequence files are in the directory `sequences/` what happens when you try to look for files ending in the pattern `*.fasta` in our home directory?"
   ]
  },
  {
   "cell_type": "code",
   "execution_count": null,
   "id": "0fdcc3f2-47f0-48f1-91c4-7a04992e96fc",
   "metadata": {},
   "outputs": [],
   "source": [
    "%%bash\n",
    "\n",
    "# Wrong path\n",
    "ls *.fasta "
   ]
  },
  {
   "cell_type": "markdown",
   "id": "b830c325-19ea-4979-8124-021ac07b47ba",
   "metadata": {},
   "source": [
    "In Jupyter notebook you get a red shaded box and a warning *no such file or directory*, in the terminal you get a similar warning but no red shaded box. You can see this warning is a bit ambiguous, there is no way to tell that the path was incorrect, in fact there are many similar errors that will throw the same message. \n",
    "\n",
    "\n",
    "### Incorrect Spelling\n",
    "\n",
    "Here we will use the correct path, but there will be a typo in our regular expression or the file won't exist."
   ]
  },
  {
   "cell_type": "code",
   "execution_count": null,
   "id": "fc6dfb9c-9426-4c93-954f-06fdb3a85c37",
   "metadata": {},
   "outputs": [],
   "source": [
    "%%bash\n",
    "\n",
    "# Typo (incorrect case)\n",
    "ls gcp_research_workflow/*.Fasta\n"
   ]
  },
  {
   "cell_type": "code",
   "execution_count": null,
   "id": "548c4ed9-8c75-4020-a69a-d376a42f6ec0",
   "metadata": {},
   "outputs": [],
   "source": [
    "%%bash\n",
    "\n",
    "# Typo (incorrect spelling)\n",
    "\n",
    "ls gcp_research_workflow/*.fasto"
   ]
  },
  {
   "cell_type": "code",
   "execution_count": null,
   "id": "aa1eb263-207e-4645-8c5c-f0138ba9c5da",
   "metadata": {},
   "outputs": [],
   "source": [
    "%%bash\n",
    "\n",
    "# Typo (incorrect spelling) and directory does not exist\n",
    "\n",
    "ls sequence/*.fasta"
   ]
  },
  {
   "cell_type": "code",
   "execution_count": null,
   "id": "61e2398c-17b7-4211-9c82-588f745b94e4",
   "metadata": {},
   "outputs": [],
   "source": [
    "%%bash\n",
    "\n",
    "# File does not exist\n",
    "\n",
    "ls *.fasta"
   ]
  },
  {
   "cell_type": "markdown",
   "id": "063351ed-0054-47ae-ad28-c245cf86ca1b",
   "metadata": {},
   "source": [
    "In these cases though there is an error thrown, it isn't clear exactly what the problem is and you will have to do some investigating before you can figure out exactly what the issue is. In the examples we used above the commands were simple and so diagnosing the problem is relatively straightforward. "
   ]
  },
  {
   "cell_type": "markdown",
   "id": "6485391a-33b5-495b-8cdc-73432498d9c5",
   "metadata": {},
   "source": [
    "<div class=\"alert alert-block alert-warning\">\n",
    "    <i class=\"fa fa-question-circle-o\" aria-hidden=\"true\"></i>\n",
    "    <b>TEST YOUR SKILLS</b> \n",
    "      <p>Practice your skills in the code block below</p>\n",
    "    <div style=\"background-color: white ; color:black; padding: 3px;\">In the next two code blocks the code is a little more complex, can you diagnose the errors?<br><br> Run the #FLASHCARD code block to see the answer.</div>\n",
    "    \n",
    "</div>"
   ]
  },
  {
   "cell_type": "code",
   "execution_count": null,
   "id": "9e42dd93-8400-46bf-bca0-6a9ee18136d0",
   "metadata": {},
   "outputs": [],
   "source": [
    "%%bash\n",
    "\n",
    "cat assembly_test/SRR18241034_1.fastq | sed -n '2~4p' | head -10000 | grep -o . | sort | grep 'n' | wc -l\n",
    "\n",
    "## Here you are getting a count of 0 but there are actually 114 Ns in the first 10,000 reads, why are you getting 0 returned?\n"
   ]
  },
  {
   "cell_type": "code",
   "execution_count": null,
   "id": "db60d08c-4670-4772-9e73-b0d878f2eb7b",
   "metadata": {},
   "outputs": [],
   "source": [
    "# FLASHCARD\n",
    "from IPython.display import IFrame\n",
    "IFrame(\"quiz_files/quiz7-1.html\", width=600, height=350)"
   ]
  },
  {
   "cell_type": "code",
   "execution_count": null,
   "id": "58f4370f-27c5-4dc9-b17b-26528029e35f",
   "metadata": {},
   "outputs": [],
   "source": [
    "%%bash\n",
    "\n",
    "\n",
    "ls gcp_research_workflow/*.fastq.gz | while read i; do \n",
    "   echo $x\n",
    "   zcat $x | sed -n '2~4p' | head -10000 | grep -o \"ATG\" | wc -l\n",
    "done\n",
    "\n",
    "## Here you are getting a red shaded box and an answer returned, This is the correct answer where is the typo here?\n",
    "\n",
    "# gcp_research_workflow/SRR1039508_1.chr20.fastq.gz\n",
    "# 10093\n",
    "# gcp_research_workflow/SRR1039508_2.chr20.fastq.gz\n",
    "# 10034\n",
    "# gcp_research_workflow/SRR1039509_1.chr20.fastq.gz\n",
    "# 10322\n",
    "# gcp_research_workflow/SRR1039509_2.chr20.fastq.gz\n",
    "# 10110\n",
    "# gcp_research_workflow/SRR1039512_1.chr20.fastq.gz\n",
    "# 10173\n",
    "# gcp_research_workflow/SRR1039512_2.chr20.fastq.gz\n",
    "# 10277\n",
    "# gcp_research_workflow/SRR1039513_1.chr20.fastq.gz\n",
    "# 10448\n",
    "# gcp_research_workflow/SRR1039513_2.chr20.fastq.gz\n",
    "# 10353"
   ]
  },
  {
   "cell_type": "code",
   "execution_count": null,
   "id": "1f288b81-4a97-4755-aff0-118187882833",
   "metadata": {},
   "outputs": [],
   "source": [
    "# FLASHCARD\n",
    "from IPython.display import IFrame\n",
    "IFrame(\"quiz_files/quiz7-2.html\", width=600, height=350)"
   ]
  },
  {
   "cell_type": "markdown",
   "id": "f925eb00-3958-40d4-9ef6-0bd704b8347e",
   "metadata": {},
   "source": [
    "We started with typos because these are the most common mistakes we diagnose in our workshops, especially with regard to case. \n",
    "\n",
    "One way to attempt to prevent typos, at least when typing filenames is to use the `tab` key to autocomplete a filename. In your terminal window (or a code chunk window) type `ls g` and then use the `tab` key to autocomplete the name of the directory. \n",
    "\n",
    "Now you should see `ls gcp_research_workflow/` add the text `all_` to the end of the command and press the `tab` key again. The file `all_counts.txt` will be filled in automatically. \n",
    "\n",
    "Using the `tab` autocomplete can save time, but more importantly it can prevent typos and save even more time trying to diagnose a vague error caused by a typo.\n",
    "\n",
    "### Incorrect or Missing Flags\n",
    "\n",
    "Another issue that can occur is a missing flag or argument in commands where flags or arguments are required. For our test example you will need to ensure that you have the conda environment `test_env` loaded. "
   ]
  },
  {
   "cell_type": "code",
   "execution_count": null,
   "id": "455892b0-5d8c-4b62-ae95-231fff74909d",
   "metadata": {},
   "outputs": [],
   "source": [
    "%%bash\n",
    "\n",
    "# Missing argument\n",
    "fastqc"
   ]
  },
  {
   "cell_type": "markdown",
   "id": "c759adcc-fadb-402e-a9c9-543c806f4977",
   "metadata": {},
   "source": [
    "If you run this command in the terminal, an error is thrown but there is no information about how to mitigate the error. In the Jupyter notebook there is a bit more information than in the terminal, but you need to read through a bit of text before it indicate an argument is missing. \n",
    "\n",
    "When typing commands quickly it's often the case that you will misspell or incorrectly indicate the flag that you're trying to use. Luckily in this case the software will throw an error identifying the flag that is unrecognized so you can easily fix the problem. "
   ]
  },
  {
   "cell_type": "code",
   "execution_count": null,
   "id": "5fa46df6-9bdb-4c1e-8902-a2a74409c9cd",
   "metadata": {},
   "outputs": [],
   "source": [
    "%%bash\n",
    "\n",
    "# incorrect flag asking for 4 threads\n",
    "fastqc -threads 4 gcp_research_workflow/*.fastq"
   ]
  },
  {
   "cell_type": "markdown",
   "id": "d6928410-260f-4ad8-a7c7-ac21c9c0e84a",
   "metadata": {},
   "source": [
    "## Errors in Conda Environments\n",
    "---\n",
    "\n",
    "In submodule 6 we needed to create two separate conda environments for assembly and annotation. I explained that this was due to a conflict in the dependencies of software used in each environment. \n",
    "\n",
    "Let's try to install prokka in your assembly environment and see what error is thrown. Remember to activate your assembly environment in the terminal using `conda activate assembly`. This command will take about 10-15 minutes to run."
   ]
  },
  {
   "cell_type": "markdown",
   "id": "f40be959-a310-4cbf-b775-062645a814a5",
   "metadata": {},
   "source": [
    "`conda install -c bioconda prokka=1.14.6`"
   ]
  },
  {
   "cell_type": "markdown",
   "id": "f96a38a0-5873-4cc9-b46c-9a546e6d58b8",
   "metadata": {},
   "source": [
    "You can see that the error message is pretty long and indicates that there are conflicts in the dependencies needed for python v. 3.9 and prokka v. 1.14.6. Can you see what the names of the dependencies (packages) causing an error are?\n",
    "\n",
    "One way to mitigate this would be to try all versions of python and prokka to determine a combination of versions that have compatible dependencies, but this is time consuming and it's easier to silo the tasks into their own environments where you can use the desired versions of the software specified. \n",
    "\n",
    "## Final Thoughts on Error Mitigation\n",
    "----\n",
    "The best way to diagnose an error thrown when using software is to use the help page for that software and remind yourself of the syntax of the command. Again this is a reason why saving code to BASH scripts is helpful as you can copy and edit the command as you need to use it in new projects. \n"
   ]
  },
  {
   "cell_type": "markdown",
   "id": "04c56404-d790-4811-9360-d06f7d192178",
   "metadata": {},
   "source": [
    "## Continuing Bioinformatic Education \n",
    "----\n",
    "This lesson introduced you to how you can interact with your data using the terminal interface using the BASH coding language. We also covered software installation, and completed a simple assembly workflow. These foundational skills are the first steps toward performing bioinformatic analyses on genomic data. \n",
    "\n",
    "To continue to build on these skills it might be helpful to continue practicing BASH coding with these other training modules.\n",
    "\n",
    "[Methylation Sequencing Analysis](https://github.com/NIGMS/MethylSeqUH)\n",
    "\n",
    "\n",
    "\n",
    "[RNA-seq Transcriptome Assembly ](https://github.com/NIGMS/rnaAssemblyMDI)\n"
   ]
  }
 ],
 "metadata": {
  "kernelspec": {
   "display_name": "Python 3 (ipykernel) (Local)",
   "language": "python",
   "name": "conda-base-py"
  },
  "language_info": {
   "codemirror_mode": {
    "name": "ipython",
    "version": 3
   },
   "file_extension": ".py",
   "mimetype": "text/x-python",
   "name": "python",
   "nbconvert_exporter": "python",
   "pygments_lexer": "ipython3",
   "version": "3.10.16"
  }
 },
 "nbformat": 4,
 "nbformat_minor": 5
}
